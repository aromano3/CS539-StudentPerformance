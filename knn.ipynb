{
 "cells": [
  {
   "cell_type": "code",
   "execution_count": 1,
   "id": "a5cdd3a6",
   "metadata": {},
   "outputs": [],
   "source": [
    "from data_process import get_data, process_data"
   ]
  },
  {
   "cell_type": "code",
   "execution_count": 3,
   "id": "42350040",
   "metadata": {},
   "outputs": [
    {
     "data": {
      "text/plain": [
       "array([[ 0,  0, 18, ...,  5,  6,  6],\n",
       "       [ 0,  0, 17, ...,  5,  5,  6],\n",
       "       [ 0,  0, 15, ...,  7,  8, 10],\n",
       "       ...,\n",
       "       [ 1,  1, 21, ..., 10,  8,  7],\n",
       "       [ 1,  1, 18, ..., 11, 12, 10],\n",
       "       [ 1,  1, 19, ...,  8,  9,  9]])"
      ]
     },
     "execution_count": 3,
     "metadata": {},
     "output_type": "execute_result"
    }
   ],
   "source": [
    "# read in data from c\n",
    "(mat_headers, mat_data), (por_headers, por_data) = get_data()\n",
    "por_data = process_data(por_data, por_headers)\n",
    "mat_data = process_data(mat_data, mat_headers)"
   ]
  }
 ],
 "metadata": {
  "kernelspec": {
   "display_name": "Python 3 (ipykernel)",
   "language": "python",
   "name": "python3"
  },
  "language_info": {
   "codemirror_mode": {
    "name": "ipython",
    "version": 3
   },
   "file_extension": ".py",
   "mimetype": "text/x-python",
   "name": "python",
   "nbconvert_exporter": "python",
   "pygments_lexer": "ipython3",
   "version": "3.8.10"
  }
 },
 "nbformat": 4,
 "nbformat_minor": 5
}
