{
  "cells": [
    {
      "cell_type": "code",
      "execution_count": 6,
      "id": "a5cdd3a6",
      "metadata": {
        "id": "a5cdd3a6"
      },
      "outputs": [],
      "source": [
        "from sklearn.model_selection import train_test_split\n",
        "from sklearn.neighbors import KNeighborsClassifier\n",
        "from sklearn.metrics import confusion_matrix, accuracy_score\n",
        "import numpy as np"
      ]
    },
    {
      "cell_type": "code",
      "source": [
        "from google.colab import drive\n",
        "drive.mount('/content/drive')"
      ],
      "metadata": {
        "colab": {
          "base_uri": "https://localhost:8080/"
        },
        "id": "Z0Q1Ic8WCcD8",
        "outputId": "83ea410f-a67d-4229-c243-f5c7231a35d3"
      },
      "id": "Z0Q1Ic8WCcD8",
      "execution_count": 7,
      "outputs": [
        {
          "output_type": "stream",
          "name": "stdout",
          "text": [
            "Drive already mounted at /content/drive; to attempt to forcibly remount, call drive.mount(\"/content/drive\", force_remount=True).\n"
          ]
        }
      ]
    },
    {
      "cell_type": "code",
      "source": [
        "import matplotlib.pyplot as plt\n",
        "import seaborn as sns\n",
        "def plot_confusion_matrix(cf_matrix):\n",
        "  ax = sns.heatmap(cf_matrix, annot=True, cmap='Blues', fmt='.3g')\n",
        "\n",
        "  ax.set_title('Confusion Matrix\\n\\n');\n",
        "  ax.set_xlabel('\\nPredicted Values')\n",
        "  ax.set_ylabel('Actual Values ');\n",
        "\n",
        "  ## Ticket labels - List must be in alphabetical order\n",
        "  ax.xaxis.set_ticklabels(['Failed','Passed'])\n",
        "  ax.yaxis.set_ticklabels(['Failed','Passed'])\n",
        "\n",
        "  ## Display the visualization of the Confusion Matrix.\n",
        "  plt.show()\n",
        "def process_data(data, headers):\n",
        "    for header_idx, header in enumerate(headers):\n",
        "        if header == \"school\":\n",
        "            for row_idx in range(len(data[0:, header_idx])):\n",
        "                if data[row_idx, header_idx] == \"GP\":\n",
        "                    data[row_idx, header_idx] = 0\n",
        "                else:\n",
        "                    data[row_idx, header_idx] = 1\n",
        "        elif header == \"sex\":\n",
        "            for row_idx in range(len(data[0:, header_idx])):\n",
        "                if data[row_idx, header_idx] == \"F\":\n",
        "                    data[row_idx, header_idx] = 0\n",
        "                else:\n",
        "                    data[row_idx, header_idx] = 1\n",
        "        elif header == \"address\":\n",
        "            for row_idx in range(len(data[0:, header_idx])):\n",
        "                if data[row_idx, header_idx] == \"U\":\n",
        "                    data[row_idx, header_idx] = 0\n",
        "                else:\n",
        "                    data[row_idx, header_idx] = 1\n",
        "        elif header == \"famsize\":\n",
        "            for row_idx in range(len(data[0:, header_idx])):\n",
        "                if data[row_idx, header_idx] == \"LE3\":\n",
        "                    data[row_idx, header_idx] = 0\n",
        "                else:\n",
        "                    data[row_idx, header_idx] = 1\n",
        "        elif header == \"Pstatus\":\n",
        "            for row_idx in range(len(data[0:, header_idx])):\n",
        "                if data[row_idx, header_idx] == \"T\":\n",
        "                    data[row_idx, header_idx] = 0\n",
        "                else:\n",
        "                    data[row_idx, header_idx] = 1\n",
        "        elif header == \"Mjob\" or header == \"Fjob\":\n",
        "            for row_idx in range(len(data[0:, header_idx])):\n",
        "                if data[row_idx, header_idx] == \"teacher\":\n",
        "                    data[row_idx, header_idx] = 0\n",
        "                elif data[row_idx, header_idx] == \"health\":\n",
        "                    data[row_idx, header_idx] = 1\n",
        "                elif data[row_idx, header_idx] == \"services\":\n",
        "                    data[row_idx, header_idx] = 2\n",
        "                elif data[row_idx, header_idx] == \"at_home\":\n",
        "                    data[row_idx, header_idx] = 3\n",
        "                else:\n",
        "                    data[row_idx, header_idx] = 4\n",
        "        elif header == \"reason\":\n",
        "            for row_idx in range(len(data[0:, header_idx])):\n",
        "                if data[row_idx, header_idx] == \"home\":\n",
        "                    data[row_idx, header_idx] = 0\n",
        "                elif data[row_idx, header_idx] == \"reputation\":\n",
        "                    data[row_idx, header_idx] = 1\n",
        "                elif data[row_idx, header_idx] == \"course\":\n",
        "                    data[row_idx, header_idx] = 2\n",
        "                else:\n",
        "                    data[row_idx, header_idx] = 3\n",
        "        elif header == \"guardian\":\n",
        "            for row_idx in range(len(data[0:, header_idx])):\n",
        "                if data[row_idx, header_idx] == \"mother\":\n",
        "                    data[row_idx, header_idx] = 0\n",
        "                elif data[row_idx, header_idx] == \"father\":\n",
        "                    data[row_idx, header_idx] = 1\n",
        "                else:\n",
        "                    data[row_idx, header_idx] = 2\n",
        "        elif (header == \"schoolsup\" or header == \"famsup\" or header == \"paid\"\n",
        "            or header == 'activities' or header == 'nursery' or header == 'higher'\n",
        "            or header == 'higher' or header == 'internet' or header == 'romantic'):\n",
        "            for row_idx in range(len(data[0:, header_idx])):\n",
        "                if data[row_idx, header_idx] == \"yes\":\n",
        "                    data[row_idx, header_idx] = 0\n",
        "                else:\n",
        "                    data[row_idx, header_idx] = 1\n",
        "        elif (header == \"G1\" or header == \"G2\" or header == \"G3\"):\n",
        "          for row_idx in range(len(data[0:, header_idx])):\n",
        "            data[row_idx, header_idx] = int(int(data[row_idx, header_idx]) >= 10)\n",
        "    return data.astype(int)\n",
        "\n",
        "def get_data():\n",
        "    with open('/content/drive/My Drive/Colab Notebooks/proj/student-por.csv') as f:\n",
        "        por_data = np.genfromtxt(f, delimiter=';', dtype='unicode')  \n",
        "\n",
        "    for row_idx in range(len(por_data)):\n",
        "        for col_idx in range(len(por_data[row_idx])):\n",
        "            por_data[row_idx, col_idx] = por_data[row_idx, col_idx].strip('\"')\n",
        "    \n",
        "    por_headers = por_data[0,:]\n",
        "    por_data = por_data[1:, :]\n",
        "\n",
        "    with open('/content/drive/My Drive/Colab Notebooks/proj/student-mat.csv') as f:\n",
        "        mat_data = np.genfromtxt(f, delimiter=';', dtype='unicode')  \n",
        "\n",
        "    for row_idx in range(len(mat_data)):\n",
        "        for col_idx in range(len(mat_data[row_idx])):\n",
        "            mat_data[row_idx, col_idx] = mat_data[row_idx, col_idx].strip('\"')\n",
        "    mat_headers = mat_data[0,:]\n",
        "    mat_data = mat_data[1:, :]\n",
        "\n",
        "    return ((mat_headers,mat_data),(por_headers,por_data))"
      ],
      "metadata": {
        "id": "em1MU6WzCUl2"
      },
      "id": "em1MU6WzCUl2",
      "execution_count": 20,
      "outputs": []
    },
    {
      "cell_type": "code",
      "execution_count": 9,
      "id": "42350040",
      "metadata": {
        "id": "42350040"
      },
      "outputs": [],
      "source": [
        "# read in data from csvs\n",
        "(mat_headers, mat_data), (por_headers, por_data) = get_data()\n",
        "\n",
        "# reformat data to all integers\n",
        "por_data = process_data(por_data, por_headers)\n",
        "mat_data = process_data(mat_data, mat_headers)\n",
        "\n",
        "por_x = por_data[:, :-3]\n",
        "por_g1 = por_data[:, -3]\n",
        "por_g2 = por_data[:, -2]\n",
        "por_g3 = por_data[:, -1]\n",
        "\n",
        "mat_x = mat_data[:, :-3]\n",
        "mat_g1 = mat_data[:, -3]\n",
        "mat_g2 = mat_data[:, -2]\n",
        "mat_g3 = mat_data[:, -1]"
      ]
    },
    {
      "cell_type": "code",
      "execution_count": 10,
      "id": "d874c0d5",
      "metadata": {
        "id": "d874c0d5"
      },
      "outputs": [],
      "source": [
        "# This function will fit and test a KNN model for 1<= num_neighbors <= num_samples and return the predictions\n",
        "# and confusion matrix for the most accurate num_neighbors val\n",
        "def do_knn(X, y):\n",
        "    X_train, X_test, y_train, y_test = train_test_split(X, y, train_size=0.7, stratify=y, shuffle = True, random_state=2)\n",
        "\n",
        "    models = {}\n",
        "    for i in range(len(X_train) - 1):\n",
        "      model = KNeighborsClassifier(n_neighbors=i+1)\n",
        "      models[i] = model.fit(X_train,y_train)\n",
        "\n",
        "    accuracy = []\n",
        "    for i in range(len(X_train) - 1):\n",
        "      y_predict = models[i].predict(X_test)\n",
        "      accuracy.append(accuracy_score(y_test,y_predict))\n",
        "\n",
        "    most_accurate_idx = None\n",
        "    most_accurate_accuracy = 0\n",
        "\n",
        "    for idx, acc in enumerate(accuracy):\n",
        "        if most_accurate_idx is None or most_accurate_accuracy < acc:\n",
        "            most_accurate_accuracy = acc\n",
        "            most_accurate_idx = idx\n",
        "\n",
        "    pred = models[most_accurate_idx].predict(X_test)\n",
        "    conf = confusion_matrix(y_test, pred)\n",
        "    return pred, conf"
      ]
    },
    {
      "cell_type": "markdown",
      "id": "be46c5ca",
      "metadata": {
        "id": "be46c5ca"
      },
      "source": [
        "## Portuguese KNN Classification"
      ]
    },
    {
      "cell_type": "code",
      "execution_count": 11,
      "id": "ce5495ad",
      "metadata": {
        "id": "ce5495ad"
      },
      "outputs": [],
      "source": [
        "# will hold predictions and confusion matrices for all 3 grades\n",
        "por_predictions = []\n",
        "por_conf_mats = []\n",
        "\n",
        "## For G1\n",
        "por_g1_predict, por_g1_conf = do_knn(por_x, por_g1)\n",
        "por_predictions.append(por_g1_predict)\n",
        "por_conf_mats.append(por_g1_conf)\n",
        "\n",
        "## For G2\n",
        "por_g2_predict, por_g2_conf = do_knn(por_x, por_g2)\n",
        "por_predictions.append(por_g2_predict)\n",
        "por_conf_mats.append(por_g2_conf)\n",
        "\n",
        "## For G3\n",
        "por_g3_predict, por_g3_conf = do_knn(por_x, por_g3)\n",
        "por_predictions.append(por_g3_predict)\n",
        "por_conf_mats.append(por_g3_conf)\n"
      ]
    },
    {
      "cell_type": "markdown",
      "id": "8c57aa3d",
      "metadata": {
        "id": "8c57aa3d"
      },
      "source": [
        "## Mathematics KNN Classification"
      ]
    },
    {
      "cell_type": "code",
      "execution_count": 12,
      "id": "50e3a06f",
      "metadata": {
        "id": "50e3a06f"
      },
      "outputs": [],
      "source": [
        "# will hold predictions and confusion matrices for all 3 grades\n",
        "mat_predictions = []\n",
        "mat_conf_mats = []\n",
        "\n",
        "## For G1\n",
        "mat_g1_predict, mat_g1_conf = do_knn(mat_x, mat_g1)\n",
        "mat_predictions.append(mat_g1_predict)\n",
        "mat_conf_mats.append(mat_g1_conf)\n",
        "\n",
        "## For G2\n",
        "mat_g2_predict, mat_g2_conf = do_knn(mat_x, mat_g2)\n",
        "mat_predictions.append(mat_g2_predict)\n",
        "mat_conf_mats.append(mat_g2_conf)\n",
        "\n",
        "## For G3\n",
        "mat_g3_predict, mat_g3_conf = do_knn(mat_x, mat_g3)\n",
        "mat_predictions.append(mat_g3_predict)\n",
        "mat_conf_mats.append(mat_g3_conf)\n"
      ]
    },
    {
      "cell_type": "markdown",
      "id": "c2bd30cb",
      "metadata": {
        "id": "c2bd30cb"
      },
      "source": [
        "## Portuguese KNN Analysis"
      ]
    },
    {
      "cell_type": "code",
      "execution_count": 21,
      "id": "4869d834",
      "metadata": {
        "colab": {
          "base_uri": "https://localhost:8080/",
          "height": 1000
        },
        "id": "4869d834",
        "outputId": "77fd1266-f914-454c-8ef6-e79ffebccc1e"
      },
      "outputs": [
        {
          "output_type": "stream",
          "name": "stdout",
          "text": [
            "Portuguese Accuracies:\n",
            "\tFor G1: 78.97435897435898%\n"
          ]
        },
        {
          "output_type": "display_data",
          "data": {
            "text/plain": [
              "<Figure size 432x288 with 2 Axes>"
            ],
            "image/png": "[encoded data removed]"
          },
          "metadata": {
            "needs_background": "light"
          }
        },
        {
          "output_type": "stream",
          "name": "stdout",
          "text": [
            "\tFor G2: 78.46153846153847%\n"
          ]
        },
        {
          "output_type": "display_data",
          "data": {
            "text/plain": [
              "<Figure size 432x288 with 2 Axes>"
            ],
            "image/png": "[encoded data removed]"
          },
          "metadata": {
            "needs_background": "light"
          }
        },
        {
          "output_type": "stream",
          "name": "stdout",
          "text": [
            "\tFor G3: 86.15384615384616%\n"
          ]
        },
        {
          "output_type": "display_data",
          "data": {
            "text/plain": [
              "<Figure size 432x288 with 2 Axes>"
            ],
            "image/png": "[encoded data removed]"
          },
          "metadata": {
            "needs_background": "light"
          }
        }
      ],
      "source": [
        "g1_acc = 100 * np.diag(por_conf_mats[0]).sum() / (por_conf_mats[0].sum())\n",
        "g2_acc = 100 * np.diag(por_conf_mats[1]).sum() / (por_conf_mats[1].sum())\n",
        "g3_acc = 100 * np.diag(por_conf_mats[2]).sum() / (por_conf_mats[2].sum())\n",
        "\n",
        "print(\"Portuguese Accuracies:\")\n",
        "print(f\"\\tFor G1: {g1_acc}%\")\n",
        "plot_confusion_matrix(por_conf_mats[0])\n",
        "print(f\"\\tFor G2: {g2_acc}%\")\n",
        "plot_confusion_matrix(por_conf_mats[1])\n",
        "print(f\"\\tFor G3: {g3_acc}%\")\n",
        "plot_confusion_matrix(por_conf_mats[2])"
      ]
    },
    {
      "cell_type": "markdown",
      "id": "c7d9ac93",
      "metadata": {
        "id": "c7d9ac93"
      },
      "source": [
        "## Mathematics KNN Analysis"
      ]
    },
    {
      "cell_type": "code",
      "execution_count": 15,
      "id": "ec73c56b",
      "metadata": {
        "colab": {
          "base_uri": "https://localhost:8080/",
          "height": 1000
        },
        "id": "ec73c56b",
        "outputId": "bc59f60e-f079-4aa7-e723-da9f24fe1c50"
      },
      "outputs": [
        {
          "output_type": "stream",
          "name": "stdout",
          "text": [
            "Mathematics Accuracies:\n",
            "\tFor G1: 64.70588235294117%\n"
          ]
        },
        {
          "output_type": "display_data",
          "data": {
            "text/plain": [
              "<Figure size 432x288 with 2 Axes>"
            ],
            "image/png": "[encoded data removed]"
          },
          "metadata": {
            "needs_background": "light"
          }
        },
        {
          "output_type": "stream",
          "name": "stdout",
          "text": [
            "\tFor G2: 67.22689075630252%\n"
          ]
        },
        {
          "output_type": "display_data",
          "data": {
            "text/plain": [
              "<Figure size 432x288 with 2 Axes>"
            ],
            "image/png": "[encoded data removed]"
          },
          "metadata": {
            "needs_background": "light"
          }
        },
        {
          "output_type": "stream",
          "name": "stdout",
          "text": [
            "\tFor G3: 69.74789915966386%\n"
          ]
        },
        {
          "output_type": "display_data",
          "data": {
            "text/plain": [
              "<Figure size 432x288 with 2 Axes>"
            ],
            "image/png": "[encoded data removed]"
          },
          "metadata": {
            "needs_background": "light"
          }
        }
      ],
      "source": [
        "g1_acc = 100 * np.diag(mat_conf_mats[0]).sum() / (mat_conf_mats[0].sum())\n",
        "g2_acc = 100 * np.diag(mat_conf_mats[1]).sum() / (mat_conf_mats[1].sum())\n",
        "g3_acc = 100 * np.diag(mat_conf_mats[2]).sum() / (mat_conf_mats[2].sum())\n",
        "\n",
        "print(\"Mathematics Accuracies:\")\n",
        "print(f\"\\tFor G1: {g1_acc}%\")\n",
        "plot_confusion_matrix(mat_conf_mats[0])\n",
        "print(f\"\\tFor G2: {g2_acc}%\")\n",
        "plot_confusion_matrix(mat_conf_mats[1])\n",
        "print(f\"\\tFor G3: {g3_acc}%\")\n",
        "plot_confusion_matrix(mat_conf_mats[2])"
      ]
    }
  ],
  "metadata": {
    "kernelspec": {
      "display_name": "Python 3 (ipykernel)",
      "language": "python",
      "name": "python3"
    },
    "language_info": {
      "codemirror_mode": {
        "name": "ipython",
        "version": 3
      },
      "file_extension": ".py",
      "mimetype": "text/x-python",
      "name": "python",
      "nbconvert_exporter": "python",
      "pygments_lexer": "ipython3",
      "version": "3.8.10"
    },
    "colab": {
      "name": "knn.ipynb",
      "provenance": [],
      "collapsed_sections": []
    }
  },
  "nbformat": 4,
  "nbformat_minor": 5
}