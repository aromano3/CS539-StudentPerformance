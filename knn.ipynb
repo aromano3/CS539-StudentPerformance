{
 "cells": [
  {
   "cell_type": "code",
   "execution_count": 6,
   "id": "a5cdd3a6",
   "metadata": {},
   "outputs": [],
   "source": [
    "import numpy as np\n"
   ]
  },
  {
   "cell_type": "code",
   "execution_count": 34,
   "id": "5e674176",
   "metadata": {},
   "outputs": [],
   "source": [
    "def get_data():\n",
    "\n",
    "    with open('student-por.csv') as f:\n",
    "        por_data = np.genfromtxt(f, delimiter=';', dtype='unicode')  \n",
    "\n",
    "    for row_idx in range(len(por_data)):\n",
    "        for col_idx in range(len(por_data[row_idx])):\n",
    "            por_data[row_idx, col_idx] = por_data[row_idx, col_idx].strip('\"')\n",
    "    por_headers = por_data[0,:]\n",
    "    por_data = por_data[1:, :]\n",
    "\n",
    "    with open('student-mat.csv') as f:\n",
    "        mat_data = np.genfromtxt(f, delimiter=';', dtype='unicode')  \n",
    "\n",
    "    for row_idx in range(len(mat_data)):\n",
    "        for col_idx in range(len(mat_data[row_idx])):\n",
    "            mat_data[row_idx, col_idx] = mat_data[row_idx, col_idx].strip('\"')\n",
    "    mat_headers = mat_data[0,:]\n",
    "    mat_data = mat_data[1:, :]\n",
    "    \n",
    "    return ((mat_headers,mat_data),(por_headers,por_data))"
   ]
  },
  {
   "cell_type": "code",
   "execution_count": 38,
   "id": "42350040",
   "metadata": {},
   "outputs": [],
   "source": [
    "(mat_headers, mat_data), (por_headers, por_data) = get_data()"
   ]
  }
 ],
 "metadata": {
  "kernelspec": {
   "display_name": "Python 3 (ipykernel)",
   "language": "python",
   "name": "python3"
  },
  "language_info": {
   "codemirror_mode": {
    "name": "ipython",
    "version": 3
   },
   "file_extension": ".py",
   "mimetype": "text/x-python",
   "name": "python",
   "nbconvert_exporter": "python",
   "pygments_lexer": "ipython3",
   "version": "3.8.10"
  }
 },
 "nbformat": 4,
 "nbformat_minor": 5
}
