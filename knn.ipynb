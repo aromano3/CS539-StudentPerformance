{
 "cells": [
  {
   "cell_type": "code",
   "execution_count": 1,
   "id": "a5cdd3a6",
   "metadata": {},
   "outputs": [],
   "source": [
    "from data_process import get_data, process_data\n",
    "from sklearn.model_selection import train_test_split\n",
    "from sklearn.neighbors import KNeighborsClassifier\n",
    "from sklearn.metrics import confusion_matrix, accuracy_score\n",
    "import numpy as np"
   ]
  },
  {
   "cell_type": "code",
   "execution_count": 2,
   "id": "42350040",
   "metadata": {},
   "outputs": [],
   "source": [
    "# read in data from csvs\n",
    "(mat_headers, mat_data), (por_headers, por_data) = get_data()\n",
    "\n",
    "# reformat data to all integers\n",
    "por_data = process_data(por_data, por_headers)\n",
    "mat_data = process_data(mat_data, mat_headers)\n",
    "\n",
    "por_x = por_data[:, :-3]\n",
    "por_g1 = por_data[:, -3]\n",
    "por_g2 = por_data[:, -2]\n",
    "por_g3 = por_data[:, -1]\n",
    "\n",
    "mat_x = mat_data[:, :-3]\n",
    "mat_g1 = mat_data[:, -3]\n",
    "mat_g2 = mat_data[:, -2]\n",
    "mat_g3 = mat_data[:, -1]"
   ]
  },
  {
   "cell_type": "code",
   "execution_count": 8,
   "id": "d874c0d5",
   "metadata": {},
   "outputs": [],
   "source": [
    "# This function will fit and test a KNN model for 1<= num_neighbors <= num_samples and return the predictions\n",
    "# and confusion matrix for the most accurate num_neighbors val\n",
    "def do_knn(X, y):\n",
    "    X_train, X_test, y_train, y_test = train_test_split(X, y, train_size=0.7, shuffle = True, random_state=2)\n",
    "\n",
    "    models = {}\n",
    "    for i in range(len(X_train) - 1):\n",
    "      model = KNeighborsClassifier(n_neighbors=i+1)\n",
    "      models[i] = model.fit(X_train,y_train)\n",
    "\n",
    "    accuracy = []\n",
    "    for i in range(len(X_train) - 1):\n",
    "      y_predict = models[i].predict(X_test)\n",
    "      accuracy.append(accuracy_score(y_test,y_predict))\n",
    "\n",
    "    most_accurate_idx = None\n",
    "    most_accurate_accuracy = 0\n",
    "\n",
    "    for idx, acc in enumerate(accuracy):\n",
    "        if most_accurate_idx is None or most_accurate_accuracy < acc:\n",
    "            most_accurate_accuracy = acc\n",
    "            most_accurate_idx = idx\n",
    "\n",
    "    pred = models[most_accurate_idx].predict(X_test)\n",
    "    conf = confusion_matrix(y_test, pred)\n",
    "    return pred, conf"
   ]
  },
  {
   "cell_type": "markdown",
   "id": "be46c5ca",
   "metadata": {},
   "source": [
    "## Portuguese KNN Classification"
   ]
  },
  {
   "cell_type": "code",
   "execution_count": 4,
   "id": "ce5495ad",
   "metadata": {},
   "outputs": [],
   "source": [
    "# will hold predictions and confusion matrices for all 3 grades\n",
    "por_predictions = []\n",
    "por_conf_mats = []\n",
    "\n",
    "## For G1\n",
    "por_g1_predict, por_g1_conf = do_knn(por_x, por_g1)\n",
    "por_predictions.append(por_g1_predict)\n",
    "por_conf_mats.append(por_g1_conf)\n",
    "\n",
    "## For G2\n",
    "por_g2_predict, por_g2_conf = do_knn(por_x, por_g2)\n",
    "por_predictions.append(por_g2_predict)\n",
    "por_conf_mats.append(por_g2_conf)\n",
    "\n",
    "## For G3\n",
    "por_g3_predict, por_g3_conf = do_knn(por_x, por_g3)\n",
    "por_predictions.append(por_g3_predict)\n",
    "por_conf_mats.append(por_g3_conf)\n"
   ]
  },
  {
   "cell_type": "markdown",
   "id": "8c57aa3d",
   "metadata": {},
   "source": [
    "## Mathematics KNN Classification"
   ]
  },
  {
   "cell_type": "code",
   "execution_count": 5,
   "id": "50e3a06f",
   "metadata": {},
   "outputs": [],
   "source": [
    "# will hold predictions and confusion matrices for all 3 grades\n",
    "mat_predictions = []\n",
    "mat_conf_mats = []\n",
    "\n",
    "## For G1\n",
    "mat_g1_predict, mat_g1_conf = do_knn(mat_x, mat_g1)\n",
    "mat_predictions.append(mat_g1_predict)\n",
    "mat_conf_mats.append(mat_g1_conf)\n",
    "\n",
    "## For G2\n",
    "mat_g2_predict, mat_g2_conf = do_knn(mat_x, mat_g2)\n",
    "mat_predictions.append(mat_g2_predict)\n",
    "mat_conf_mats.append(mat_g2_conf)\n",
    "\n",
    "## For G3\n",
    "mat_g3_predict, mat_g3_conf = do_knn(mat_x, mat_g3)\n",
    "mat_predictions.append(mat_g3_predict)\n",
    "mat_conf_mats.append(mat_g3_conf)\n"
   ]
  },
  {
   "cell_type": "markdown",
   "id": "c2bd30cb",
   "metadata": {},
   "source": [
    "## Portuguese KNN Analysis"
   ]
  },
  {
   "cell_type": "code",
   "execution_count": 6,
   "id": "4869d834",
   "metadata": {},
   "outputs": [
    {
     "name": "stdout",
     "output_type": "stream",
     "text": [
      "Portuguese Accuracies:\n",
      "\tFor G1: 18.46153846153846%\n",
      "\tFor G2: 19.487179487179485%\n",
      "\tFor G3: 23.58974358974359%\n"
     ]
    }
   ],
   "source": [
    "g1_acc = 100 * np.diag(por_conf_mats[0]).sum() / (por_conf_mats[0].sum())\n",
    "g2_acc = 100 * np.diag(por_conf_mats[1]).sum() / (por_conf_mats[1].sum())\n",
    "g3_acc = 100 * np.diag(por_conf_mats[2]).sum() / (por_conf_mats[2].sum())\n",
    "\n",
    "print(\"Portuguese Accuracies:\")\n",
    "print(f\"\\tFor G1: {g1_acc}%\")\n",
    "print(f\"\\tFor G2: {g2_acc}%\")\n",
    "print(f\"\\tFor G3: {g3_acc}%\")"
   ]
  },
  {
   "cell_type": "markdown",
   "id": "c7d9ac93",
   "metadata": {},
   "source": [
    "## Mathematics KNN Analysis"
   ]
  },
  {
   "cell_type": "code",
   "execution_count": 9,
   "id": "ec73c56b",
   "metadata": {},
   "outputs": [
    {
     "name": "stdout",
     "output_type": "stream",
     "text": [
      "Mathematics Accuracies:\n",
      "\tFor G1: 15.966386554621849%\n",
      "\tFor G2: 13.445378151260504%\n",
      "\tFor G3: 30.252100840336134%\n"
     ]
    }
   ],
   "source": [
    "g1_acc = 100 * np.diag(mat_conf_mats[0]).sum() / (mat_conf_mats[0].sum())\n",
    "g2_acc = 100 * np.diag(mat_conf_mats[1]).sum() / (mat_conf_mats[1].sum())\n",
    "g3_acc = 100 * np.diag(mat_conf_mats[2]).sum() / (mat_conf_mats[2].sum())\n",
    "\n",
    "print(\"Mathematics Accuracies:\")\n",
    "print(f\"\\tFor G1: {g1_acc}%\")\n",
    "print(f\"\\tFor G2: {g2_acc}%\")\n",
    "print(f\"\\tFor G3: {g3_acc}%\")"
   ]
  }
 ],
 "metadata": {
  "kernelspec": {
   "display_name": "Python 3 (ipykernel)",
   "language": "python",
   "name": "python3"
  },
  "language_info": {
   "codemirror_mode": {
    "name": "ipython",
    "version": 3
   },
   "file_extension": ".py",
   "mimetype": "text/x-python",
   "name": "python",
   "nbconvert_exporter": "python",
   "pygments_lexer": "ipython3",
   "version": "3.8.10"
  }
 },
 "nbformat": 4,
 "nbformat_minor": 5
}
