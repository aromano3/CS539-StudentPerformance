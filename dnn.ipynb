{
  "nbformat": 4,
  "nbformat_minor": 0,
  "metadata": {
    "colab": {
      "name": "dnn.ipynb",
      "provenance": [],
      "collapsed_sections": []
    },
    "kernelspec": {
      "name": "python3",
      "display_name": "Python 3"
    },
    "language_info": {
      "name": "python"
    }
  },
  "cells": [
    {
      "cell_type": "code",
      "source": [
        "from google.colab import drive\n",
        "import numpy as np\n",
        "import numpy as np\n",
        "from sklearn.model_selection import train_test_split\n",
        "import sklearn.metrics as metrics\n",
        "import matplotlib.pyplot as plt\n",
        "from sklearn.metrics import confusion_matrix, accuracy_score\n",
        "from tensorflow import keras\n",
        "import tensorflow as tf\n",
        "\n",
        "drive.mount('/content/drive')"
      ],
      "metadata": {
        "colab": {
          "base_uri": "https://localhost:8080/"
        },
        "id": "WC8PC1qFDAG4",
        "outputId": "927db6dc-d87e-41ee-eff9-7fdcb4cd4ad2"
      },
      "execution_count": 71,
      "outputs": [
        {
          "output_type": "stream",
          "name": "stdout",
          "text": [
            "Drive already mounted at /content/drive; to attempt to forcibly remount, call drive.mount(\"/content/drive\", force_remount=True).\n"
          ]
        }
      ]
    },
    {
      "cell_type": "code",
      "source": [
        "import matplotlib.pyplot as plt\n",
        "import seaborn as sns\n",
        "def plot_confusion_matrix(cf_matrix):\n",
        "  ax = sns.heatmap(cf_matrix, annot=True, cmap='Blues', fmt='.3g')\n",
        "\n",
        "  ax.set_title('Confusion Matrix\\n\\n');\n",
        "  ax.set_xlabel('\\nPredicted Values')\n",
        "  ax.set_ylabel('Actual Values ');\n",
        "\n",
        "  ## Ticket labels - List must be in alphabetical order\n",
        "  ax.xaxis.set_ticklabels(['Failed','Passed'])\n",
        "  ax.yaxis.set_ticklabels(['Failed','Passed'])\n",
        "\n",
        "  ## Display the visualization of the Confusion Matrix.\n",
        "  plt.show()"
      ],
      "metadata": {
        "id": "QdHwz_3OcMSu"
      },
      "execution_count": 72,
      "outputs": []
    },
    {
      "cell_type": "code",
      "execution_count": 73,
      "metadata": {
        "id": "tSfAvmj6C3DI"
      },
      "outputs": [],
      "source": [
        "def process_data(data, headers):\n",
        "    for header_idx, header in enumerate(headers):\n",
        "        if header == \"school\":\n",
        "            for row_idx in range(len(data[0:, header_idx])):\n",
        "                if data[row_idx, header_idx] == \"GP\":\n",
        "                    data[row_idx, header_idx] = 0\n",
        "                else:\n",
        "                    data[row_idx, header_idx] = 1\n",
        "        elif header == \"sex\":\n",
        "            for row_idx in range(len(data[0:, header_idx])):\n",
        "                if data[row_idx, header_idx] == \"F\":\n",
        "                    data[row_idx, header_idx] = 0\n",
        "                else:\n",
        "                    data[row_idx, header_idx] = 1\n",
        "        elif header == \"address\":\n",
        "            for row_idx in range(len(data[0:, header_idx])):\n",
        "                if data[row_idx, header_idx] == \"U\":\n",
        "                    data[row_idx, header_idx] = 0\n",
        "                else:\n",
        "                    data[row_idx, header_idx] = 1\n",
        "        elif header == \"famsize\":\n",
        "            for row_idx in range(len(data[0:, header_idx])):\n",
        "                if data[row_idx, header_idx] == \"LE3\":\n",
        "                    data[row_idx, header_idx] = 0\n",
        "                else:\n",
        "                    data[row_idx, header_idx] = 1\n",
        "        elif header == \"Pstatus\":\n",
        "            for row_idx in range(len(data[0:, header_idx])):\n",
        "                if data[row_idx, header_idx] == \"T\":\n",
        "                    data[row_idx, header_idx] = 0\n",
        "                else:\n",
        "                    data[row_idx, header_idx] = 1\n",
        "        elif header == \"Mjob\" or header == \"Fjob\":\n",
        "            for row_idx in range(len(data[0:, header_idx])):\n",
        "                if data[row_idx, header_idx] == \"teacher\":\n",
        "                    data[row_idx, header_idx] = 0\n",
        "                elif data[row_idx, header_idx] == \"health\":\n",
        "                    data[row_idx, header_idx] = 1\n",
        "                elif data[row_idx, header_idx] == \"services\":\n",
        "                    data[row_idx, header_idx] = 2\n",
        "                elif data[row_idx, header_idx] == \"at_home\":\n",
        "                    data[row_idx, header_idx] = 3\n",
        "                else:\n",
        "                    data[row_idx, header_idx] = 4\n",
        "        elif header == \"reason\":\n",
        "            for row_idx in range(len(data[0:, header_idx])):\n",
        "                if data[row_idx, header_idx] == \"home\":\n",
        "                    data[row_idx, header_idx] = 0\n",
        "                elif data[row_idx, header_idx] == \"reputation\":\n",
        "                    data[row_idx, header_idx] = 1\n",
        "                elif data[row_idx, header_idx] == \"course\":\n",
        "                    data[row_idx, header_idx] = 2\n",
        "                else:\n",
        "                    data[row_idx, header_idx] = 3\n",
        "        elif header == \"guardian\":\n",
        "            for row_idx in range(len(data[0:, header_idx])):\n",
        "                if data[row_idx, header_idx] == \"mother\":\n",
        "                    data[row_idx, header_idx] = 0\n",
        "                elif data[row_idx, header_idx] == \"father\":\n",
        "                    data[row_idx, header_idx] = 1\n",
        "                else:\n",
        "                    data[row_idx, header_idx] = 2\n",
        "        elif (header == \"schoolsup\" or header == \"famsup\" or header == \"paid\"\n",
        "            or header == 'activities' or header == 'nursery' or header == 'higher'\n",
        "            or header == 'higher' or header == 'internet' or header == 'romantic'):\n",
        "            for row_idx in range(len(data[0:, header_idx])):\n",
        "                if data[row_idx, header_idx] == \"yes\":\n",
        "                    data[row_idx, header_idx] = 0\n",
        "                else:\n",
        "                    data[row_idx, header_idx] = 1\n",
        "        elif (header == \"G1\" or header == \"G2\" or header == \"G3\"):\n",
        "          for row_idx in range(len(data[0:, header_idx])):\n",
        "            data[row_idx, header_idx] = int(int(data[row_idx, header_idx]) >= 10)\n",
        "    return data.astype(int)\n",
        "\n",
        "def get_data():\n",
        "    with open('/content/drive/My Drive/Colab Notebooks/proj/student-por.csv') as f:\n",
        "        por_data = np.genfromtxt(f, delimiter=';', dtype='unicode')  \n",
        "\n",
        "    for row_idx in range(len(por_data)):\n",
        "        for col_idx in range(len(por_data[row_idx])):\n",
        "            por_data[row_idx, col_idx] = por_data[row_idx, col_idx].strip('\"')\n",
        "    \n",
        "    por_headers = por_data[0,:]\n",
        "    por_data = por_data[1:, :]\n",
        "\n",
        "    with open('/content/drive/My Drive/Colab Notebooks/proj/student-mat.csv') as f:\n",
        "        mat_data = np.genfromtxt(f, delimiter=';', dtype='unicode')  \n",
        "\n",
        "    for row_idx in range(len(mat_data)):\n",
        "        for col_idx in range(len(mat_data[row_idx])):\n",
        "            mat_data[row_idx, col_idx] = mat_data[row_idx, col_idx].strip('\"')\n",
        "    mat_headers = mat_data[0,:]\n",
        "    mat_data = mat_data[1:, :]\n",
        "\n",
        "    return ((mat_headers,mat_data),(por_headers,por_data))"
      ]
    },
    {
      "cell_type": "code",
      "source": [
        "# read in data from csvs\n",
        "(mat_headers, mat_data), (por_headers, por_data) = get_data()\n",
        "\n",
        "# reformat data to all integers\n",
        "por_data = process_data(por_data, por_headers)\n",
        "mat_data = process_data(mat_data, mat_headers)\n",
        "\n",
        "por_x = por_data[:, :-3]\n",
        "por_g1 = por_data[:, -3]\n",
        "por_g2 = por_data[:, -2]\n",
        "por_g3 = por_data[:, -1]\n",
        "\n",
        "mat_x = mat_data[:, :-3]\n",
        "mat_g1 = mat_data[:, -3]\n",
        "mat_g2 = mat_data[:, -2]\n",
        "mat_g3 = mat_data[:, -1]"
      ],
      "metadata": {
        "id": "muD-LJBgDjyv"
      },
      "execution_count": 74,
      "outputs": []
    },
    {
      "cell_type": "markdown",
      "source": [
        "# Define Model"
      ],
      "metadata": {
        "id": "wHVQzj_hDti0"
      }
    },
    {
      "cell_type": "code",
      "source": [
        "def get_dnn (X, y):\n",
        "  X_train, X_test, y_train, y_test = train_test_split(X, y, train_size=0.7, stratify=y, shuffle = True, random_state=2)\n",
        "  dnn = tf.keras.models.Sequential([\n",
        "    tf.keras.layers.Dense(20, input_dim=X_train.shape[1], activation = 'relu'),\n",
        "    tf.keras.layers.Dense(10, activation='relu'),      \n",
        "    tf.keras.layers.Dense(10, activation='relu'),      \n",
        "    tf.keras.layers.Dense(10, activation='relu'),           \n",
        "    tf.keras.layers.Dense(1, activation='sigmoid')])\n",
        "\n",
        "  dnn.compile(loss='BinaryCrossentropy', optimizer='SGD', metrics=['accuracy'])\n",
        "  callback = tf.keras.callbacks.EarlyStopping(monitor='loss', patience=5)\n",
        "  dnn.fit(X_train, y_train, epochs=150, batch_size=1, callbacks=[callback])\n",
        "  score = dnn.evaluate(X_test, y_test, verbose=0)\n",
        "  y_pred = (dnn.predict(X_test) > 0.5).astype(\"int32\")\n",
        "  c_mat = confusion_matrix(y_test, y_pred)\n",
        "  return score[1], c_mat"
      ],
      "metadata": {
        "id": "Swj23kz1Duks"
      },
      "execution_count": 75,
      "outputs": []
    },
    {
      "cell_type": "markdown",
      "source": [
        "# Perform analysis"
      ],
      "metadata": {
        "id": "SLnI9MytFvfL"
      }
    },
    {
      "cell_type": "code",
      "source": [
        "por_g1_acc, por_g1_cmat = get_dnn(por_x, por_g1)\n",
        "por_g2_acc, por_g2_cmat = get_dnn(por_x, por_g2)\n",
        "por_g3_acc, por_g3_cmat = get_dnn(por_x, por_g3)\n",
        "\n",
        "mat_g1_acc, mat_g1_cmat = get_dnn(mat_x, mat_g1)\n",
        "mat_g2_acc, mat_g2_cmat = get_dnn(mat_x, mat_g2)\n",
        "mat_g3_acc, mat_g3_cmat = get_dnn(mat_x, mat_g3)"
      ],
      "metadata": {
        "colab": {
          "base_uri": "https://localhost:8080/"
        },
        "id": "03YWIK6QFuJM",
        "outputId": "a45bd7ac-7480-4183-bbbd-9f4ff5eba446"
      },
      "execution_count": 76,
      "outputs": [
        {
          "output_type": "stream",
          "name": "stdout",
          "text": [
            "Epoch 1/150\n",
            "454/454 [==============================] - 1s 1ms/step - loss: 0.5792 - accuracy: 0.7379\n",
            "Epoch 2/150\n",
            "454/454 [==============================] - 1s 1ms/step - loss: 0.5599 - accuracy: 0.7555\n",
            "Epoch 3/150\n",
            "454/454 [==============================] - 1s 1ms/step - loss: 0.5517 - accuracy: 0.7577\n",
            "Epoch 4/150\n",
            "454/454 [==============================] - 1s 2ms/step - loss: 0.5343 - accuracy: 0.7577\n",
            "Epoch 5/150\n",
            "454/454 [==============================] - 1s 1ms/step - loss: 0.5390 - accuracy: 0.7577\n",
            "Epoch 6/150\n",
            "454/454 [==============================] - 1s 1ms/step - loss: 0.5232 - accuracy: 0.7577\n",
            "Epoch 7/150\n",
            "454/454 [==============================] - 1s 1ms/step - loss: 0.5256 - accuracy: 0.7577\n",
            "Epoch 8/150\n",
            "454/454 [==============================] - 1s 1ms/step - loss: 0.5138 - accuracy: 0.7577\n",
            "Epoch 9/150\n",
            "454/454 [==============================] - 1s 1ms/step - loss: 0.5160 - accuracy: 0.7577\n",
            "Epoch 10/150\n",
            "454/454 [==============================] - 1s 1ms/step - loss: 0.5177 - accuracy: 0.7577\n",
            "Epoch 11/150\n",
            "454/454 [==============================] - 1s 1ms/step - loss: 0.5119 - accuracy: 0.7577\n",
            "Epoch 12/150\n",
            "454/454 [==============================] - 1s 1ms/step - loss: 0.5036 - accuracy: 0.7577\n",
            "Epoch 13/150\n",
            "454/454 [==============================] - 1s 1ms/step - loss: 0.4855 - accuracy: 0.7599\n",
            "Epoch 14/150\n",
            "454/454 [==============================] - 1s 1ms/step - loss: 0.4878 - accuracy: 0.7599\n",
            "Epoch 15/150\n",
            "454/454 [==============================] - 1s 1ms/step - loss: 0.4856 - accuracy: 0.7841\n",
            "Epoch 16/150\n",
            "454/454 [==============================] - 1s 1ms/step - loss: 0.4788 - accuracy: 0.7599\n",
            "Epoch 17/150\n",
            "454/454 [==============================] - 1s 1ms/step - loss: 0.4681 - accuracy: 0.7907\n",
            "Epoch 18/150\n",
            "454/454 [==============================] - 1s 1ms/step - loss: 0.4775 - accuracy: 0.7621\n",
            "Epoch 19/150\n",
            "454/454 [==============================] - 1s 1ms/step - loss: 0.4784 - accuracy: 0.7775\n",
            "Epoch 20/150\n",
            "454/454 [==============================] - 1s 1ms/step - loss: 0.4776 - accuracy: 0.7687\n",
            "Epoch 21/150\n",
            "454/454 [==============================] - 1s 1ms/step - loss: 0.4598 - accuracy: 0.7577\n",
            "Epoch 22/150\n",
            "454/454 [==============================] - 1s 1ms/step - loss: 0.4796 - accuracy: 0.7885\n",
            "Epoch 23/150\n",
            "454/454 [==============================] - 1s 1ms/step - loss: 0.4724 - accuracy: 0.7687\n",
            "Epoch 24/150\n",
            "454/454 [==============================] - 1s 1ms/step - loss: 0.4729 - accuracy: 0.7731\n",
            "Epoch 25/150\n",
            "454/454 [==============================] - 1s 1ms/step - loss: 0.4601 - accuracy: 0.7775\n",
            "Epoch 26/150\n",
            "454/454 [==============================] - 1s 1ms/step - loss: 0.4643 - accuracy: 0.7841\n",
            "Epoch 1/150\n",
            "454/454 [==============================] - 1s 1ms/step - loss: 0.5560 - accuracy: 0.7687\n",
            "Epoch 2/150\n",
            "454/454 [==============================] - 1s 1ms/step - loss: 0.5303 - accuracy: 0.7775\n",
            "Epoch 3/150\n",
            "454/454 [==============================] - 1s 1ms/step - loss: 0.5213 - accuracy: 0.7731\n",
            "Epoch 4/150\n",
            "454/454 [==============================] - 1s 1ms/step - loss: 0.5068 - accuracy: 0.7731\n",
            "Epoch 5/150\n",
            "454/454 [==============================] - 1s 1ms/step - loss: 0.5003 - accuracy: 0.7753\n",
            "Epoch 6/150\n",
            "454/454 [==============================] - 1s 1ms/step - loss: 0.5093 - accuracy: 0.7665\n",
            "Epoch 7/150\n",
            "454/454 [==============================] - 1s 1ms/step - loss: 0.4931 - accuracy: 0.7775\n",
            "Epoch 8/150\n",
            "454/454 [==============================] - 1s 1ms/step - loss: 0.4932 - accuracy: 0.7665\n",
            "Epoch 9/150\n",
            "454/454 [==============================] - 1s 1ms/step - loss: 0.4863 - accuracy: 0.7819\n",
            "Epoch 10/150\n",
            "454/454 [==============================] - 1s 1ms/step - loss: 0.4805 - accuracy: 0.7841\n",
            "Epoch 11/150\n",
            "454/454 [==============================] - 1s 1ms/step - loss: 0.4793 - accuracy: 0.7930\n",
            "Epoch 12/150\n",
            "454/454 [==============================] - 1s 1ms/step - loss: 0.4801 - accuracy: 0.7753\n",
            "Epoch 13/150\n",
            "454/454 [==============================] - 1s 1ms/step - loss: 0.4765 - accuracy: 0.7819\n",
            "Epoch 14/150\n",
            "454/454 [==============================] - 1s 1ms/step - loss: 0.4683 - accuracy: 0.7841\n",
            "Epoch 15/150\n",
            "454/454 [==============================] - 1s 1ms/step - loss: 0.4589 - accuracy: 0.7863\n",
            "Epoch 16/150\n",
            "454/454 [==============================] - 1s 1ms/step - loss: 0.4761 - accuracy: 0.7885\n",
            "Epoch 17/150\n",
            "454/454 [==============================] - 1s 1ms/step - loss: 0.4668 - accuracy: 0.7819\n",
            "Epoch 18/150\n",
            "454/454 [==============================] - 1s 1ms/step - loss: 0.4591 - accuracy: 0.8128\n",
            "Epoch 19/150\n",
            "454/454 [==============================] - 1s 1ms/step - loss: 0.4700 - accuracy: 0.7885\n",
            "Epoch 20/150\n",
            "454/454 [==============================] - 1s 1ms/step - loss: 0.4547 - accuracy: 0.7797\n",
            "Epoch 21/150\n",
            "454/454 [==============================] - 1s 1ms/step - loss: 0.4429 - accuracy: 0.8150\n",
            "Epoch 22/150\n",
            "454/454 [==============================] - 1s 1ms/step - loss: 0.4578 - accuracy: 0.7907\n",
            "Epoch 23/150\n",
            "454/454 [==============================] - 1s 1ms/step - loss: 0.4596 - accuracy: 0.7974\n",
            "Epoch 24/150\n",
            "454/454 [==============================] - 1s 1ms/step - loss: 0.4593 - accuracy: 0.7797\n",
            "Epoch 25/150\n",
            "454/454 [==============================] - 1s 1ms/step - loss: 0.4516 - accuracy: 0.8018\n",
            "Epoch 26/150\n",
            "454/454 [==============================] - 1s 1ms/step - loss: 0.4530 - accuracy: 0.7974\n",
            "Epoch 1/150\n",
            "454/454 [==============================] - 1s 1ms/step - loss: 0.4596 - accuracy: 0.8348\n",
            "Epoch 2/150\n",
            "454/454 [==============================] - 1s 1ms/step - loss: 0.4524 - accuracy: 0.8458\n",
            "Epoch 3/150\n",
            "454/454 [==============================] - 1s 1ms/step - loss: 0.4411 - accuracy: 0.8458\n",
            "Epoch 4/150\n",
            "454/454 [==============================] - 1s 1ms/step - loss: 0.4341 - accuracy: 0.8458\n",
            "Epoch 5/150\n",
            "454/454 [==============================] - 1s 1ms/step - loss: 0.4345 - accuracy: 0.8458\n",
            "Epoch 6/150\n",
            "454/454 [==============================] - 1s 1ms/step - loss: 0.4189 - accuracy: 0.8458\n",
            "Epoch 7/150\n",
            "454/454 [==============================] - 1s 1ms/step - loss: 0.4265 - accuracy: 0.8458\n",
            "Epoch 8/150\n",
            "454/454 [==============================] - 1s 1ms/step - loss: 0.4034 - accuracy: 0.8458\n",
            "Epoch 9/150\n",
            "454/454 [==============================] - 1s 1ms/step - loss: 0.4012 - accuracy: 0.8458\n",
            "Epoch 10/150\n",
            "454/454 [==============================] - 1s 1ms/step - loss: 0.4040 - accuracy: 0.8458\n",
            "Epoch 11/150\n",
            "454/454 [==============================] - 1s 1ms/step - loss: 0.3869 - accuracy: 0.8458\n",
            "Epoch 12/150\n",
            "454/454 [==============================] - 1s 1ms/step - loss: 0.3957 - accuracy: 0.8458\n",
            "Epoch 13/150\n",
            "454/454 [==============================] - 1s 1ms/step - loss: 0.3883 - accuracy: 0.8458\n",
            "Epoch 14/150\n",
            "454/454 [==============================] - 1s 2ms/step - loss: 0.3848 - accuracy: 0.8458\n",
            "Epoch 15/150\n",
            "454/454 [==============================] - 1s 1ms/step - loss: 0.3676 - accuracy: 0.8502\n",
            "Epoch 16/150\n",
            "454/454 [==============================] - 1s 1ms/step - loss: 0.3755 - accuracy: 0.8436\n",
            "Epoch 17/150\n",
            "454/454 [==============================] - 1s 1ms/step - loss: 0.3598 - accuracy: 0.8436\n",
            "Epoch 18/150\n",
            "454/454 [==============================] - 1s 1ms/step - loss: 0.3673 - accuracy: 0.8458\n",
            "Epoch 19/150\n",
            "454/454 [==============================] - 1s 1ms/step - loss: 0.3760 - accuracy: 0.8436\n",
            "Epoch 20/150\n",
            "454/454 [==============================] - 1s 1ms/step - loss: 0.3662 - accuracy: 0.8436\n",
            "Epoch 21/150\n",
            "454/454 [==============================] - 1s 1ms/step - loss: 0.3688 - accuracy: 0.8480\n",
            "Epoch 22/150\n",
            "454/454 [==============================] - 1s 1ms/step - loss: 0.3597 - accuracy: 0.8502\n",
            "Epoch 23/150\n",
            "454/454 [==============================] - 1s 1ms/step - loss: 0.3629 - accuracy: 0.8480\n",
            "Epoch 24/150\n",
            "454/454 [==============================] - 1s 1ms/step - loss: 0.3579 - accuracy: 0.8502\n",
            "Epoch 25/150\n",
            "454/454 [==============================] - 1s 1ms/step - loss: 0.3524 - accuracy: 0.8524\n",
            "Epoch 26/150\n",
            "454/454 [==============================] - 1s 1ms/step - loss: 0.3602 - accuracy: 0.8568\n",
            "Epoch 27/150\n",
            "454/454 [==============================] - 1s 1ms/step - loss: 0.3539 - accuracy: 0.8524\n",
            "Epoch 28/150\n",
            "454/454 [==============================] - 1s 1ms/step - loss: 0.3490 - accuracy: 0.8480\n",
            "Epoch 29/150\n",
            "454/454 [==============================] - 1s 1ms/step - loss: 0.3449 - accuracy: 0.8744\n",
            "Epoch 30/150\n",
            "454/454 [==============================] - 1s 1ms/step - loss: 0.3575 - accuracy: 0.8436\n",
            "Epoch 31/150\n",
            "454/454 [==============================] - 1s 1ms/step - loss: 0.3622 - accuracy: 0.8370\n",
            "Epoch 32/150\n",
            "454/454 [==============================] - 1s 1ms/step - loss: 0.3460 - accuracy: 0.8502\n",
            "Epoch 33/150\n",
            "454/454 [==============================] - 1s 1ms/step - loss: 0.3425 - accuracy: 0.8568\n",
            "Epoch 34/150\n",
            "454/454 [==============================] - 1s 1ms/step - loss: 0.3482 - accuracy: 0.8590\n",
            "Epoch 35/150\n",
            "454/454 [==============================] - 1s 1ms/step - loss: 0.3502 - accuracy: 0.8590\n",
            "Epoch 36/150\n",
            "454/454 [==============================] - 1s 1ms/step - loss: 0.3444 - accuracy: 0.8590\n",
            "Epoch 37/150\n",
            "454/454 [==============================] - 1s 1ms/step - loss: 0.3349 - accuracy: 0.8634\n",
            "Epoch 38/150\n",
            "454/454 [==============================] - 1s 1ms/step - loss: 0.3415 - accuracy: 0.8436\n",
            "Epoch 39/150\n",
            "454/454 [==============================] - 1s 1ms/step - loss: 0.3386 - accuracy: 0.8612\n",
            "Epoch 40/150\n",
            "454/454 [==============================] - 1s 1ms/step - loss: 0.3316 - accuracy: 0.8546\n",
            "Epoch 41/150\n",
            "454/454 [==============================] - 1s 1ms/step - loss: 0.3274 - accuracy: 0.8656\n",
            "Epoch 42/150\n",
            "454/454 [==============================] - 1s 1ms/step - loss: 0.3382 - accuracy: 0.8590\n",
            "Epoch 43/150\n",
            "454/454 [==============================] - 1s 1ms/step - loss: 0.3456 - accuracy: 0.8480\n",
            "Epoch 44/150\n",
            "454/454 [==============================] - 1s 1ms/step - loss: 0.3398 - accuracy: 0.8634\n",
            "Epoch 45/150\n",
            "454/454 [==============================] - 1s 1ms/step - loss: 0.3246 - accuracy: 0.8656\n",
            "Epoch 46/150\n",
            "454/454 [==============================] - 1s 1ms/step - loss: 0.3295 - accuracy: 0.8789\n",
            "Epoch 47/150\n",
            "454/454 [==============================] - 1s 1ms/step - loss: 0.3293 - accuracy: 0.8656\n",
            "Epoch 48/150\n",
            "454/454 [==============================] - 1s 1ms/step - loss: 0.3397 - accuracy: 0.8634\n",
            "Epoch 49/150\n",
            "454/454 [==============================] - 1s 1ms/step - loss: 0.3307 - accuracy: 0.8678\n",
            "Epoch 50/150\n",
            "454/454 [==============================] - 1s 1ms/step - loss: 0.3252 - accuracy: 0.8656\n",
            "Epoch 1/150\n",
            "276/276 [==============================] - 1s 1ms/step - loss: 0.6809 - accuracy: 0.6051\n",
            "Epoch 2/150\n",
            "276/276 [==============================] - 0s 2ms/step - loss: 0.6565 - accuracy: 0.6413\n",
            "Epoch 3/150\n",
            "276/276 [==============================] - 0s 1ms/step - loss: 0.6482 - accuracy: 0.6449\n",
            "Epoch 4/150\n",
            "276/276 [==============================] - 0s 2ms/step - loss: 0.6357 - accuracy: 0.6413\n",
            "Epoch 5/150\n",
            "276/276 [==============================] - 0s 1ms/step - loss: 0.6317 - accuracy: 0.6413\n",
            "Epoch 6/150\n",
            "276/276 [==============================] - 0s 1ms/step - loss: 0.6367 - accuracy: 0.6449\n",
            "Epoch 7/150\n",
            "276/276 [==============================] - 0s 1ms/step - loss: 0.6262 - accuracy: 0.6522\n",
            "Epoch 8/150\n",
            "276/276 [==============================] - 0s 1ms/step - loss: 0.6219 - accuracy: 0.6594\n",
            "Epoch 9/150\n",
            "276/276 [==============================] - 0s 1ms/step - loss: 0.6301 - accuracy: 0.6304\n",
            "Epoch 10/150\n",
            "276/276 [==============================] - 0s 1ms/step - loss: 0.6107 - accuracy: 0.6486\n",
            "Epoch 11/150\n",
            "276/276 [==============================] - 0s 1ms/step - loss: 0.6122 - accuracy: 0.6558\n",
            "Epoch 12/150\n",
            "276/276 [==============================] - 0s 1ms/step - loss: 0.6041 - accuracy: 0.6920\n",
            "Epoch 13/150\n",
            "276/276 [==============================] - 0s 2ms/step - loss: 0.6155 - accuracy: 0.6449\n",
            "Epoch 14/150\n",
            "276/276 [==============================] - 0s 1ms/step - loss: 0.5926 - accuracy: 0.6812\n",
            "Epoch 15/150\n",
            "276/276 [==============================] - 0s 2ms/step - loss: 0.6057 - accuracy: 0.6812\n",
            "Epoch 16/150\n",
            "276/276 [==============================] - 0s 1ms/step - loss: 0.5974 - accuracy: 0.6993\n",
            "Epoch 17/150\n",
            "276/276 [==============================] - 0s 1ms/step - loss: 0.5874 - accuracy: 0.6957\n",
            "Epoch 18/150\n",
            "276/276 [==============================] - 0s 1ms/step - loss: 0.5951 - accuracy: 0.6848\n",
            "Epoch 19/150\n",
            "276/276 [==============================] - 0s 1ms/step - loss: 0.5856 - accuracy: 0.6993\n",
            "Epoch 20/150\n",
            "276/276 [==============================] - 0s 1ms/step - loss: 0.5842 - accuracy: 0.7210\n",
            "Epoch 21/150\n",
            "276/276 [==============================] - 0s 1ms/step - loss: 0.5906 - accuracy: 0.6812\n",
            "Epoch 22/150\n",
            "276/276 [==============================] - 0s 1ms/step - loss: 0.5936 - accuracy: 0.7138\n",
            "Epoch 23/150\n",
            "276/276 [==============================] - 0s 1ms/step - loss: 0.5895 - accuracy: 0.7065\n",
            "Epoch 24/150\n",
            "276/276 [==============================] - 0s 1ms/step - loss: 0.5760 - accuracy: 0.7101\n",
            "Epoch 25/150\n",
            "276/276 [==============================] - 0s 1ms/step - loss: 0.5832 - accuracy: 0.7101\n",
            "Epoch 26/150\n",
            "276/276 [==============================] - 0s 1ms/step - loss: 0.5810 - accuracy: 0.7065\n",
            "Epoch 27/150\n",
            "276/276 [==============================] - 0s 1ms/step - loss: 0.5878 - accuracy: 0.7065\n",
            "Epoch 28/150\n",
            "276/276 [==============================] - 0s 1ms/step - loss: 0.5779 - accuracy: 0.7029\n",
            "Epoch 29/150\n",
            "276/276 [==============================] - 0s 1ms/step - loss: 0.5984 - accuracy: 0.6775\n",
            "Epoch 1/150\n",
            "276/276 [==============================] - 1s 1ms/step - loss: 0.6863 - accuracy: 0.6196\n",
            "Epoch 2/150\n",
            "276/276 [==============================] - 0s 1ms/step - loss: 0.6668 - accuracy: 0.6304\n",
            "Epoch 3/150\n",
            "276/276 [==============================] - 0s 1ms/step - loss: 0.6643 - accuracy: 0.6304\n",
            "Epoch 4/150\n",
            "276/276 [==============================] - 0s 2ms/step - loss: 0.6624 - accuracy: 0.6304\n",
            "Epoch 5/150\n",
            "276/276 [==============================] - 0s 1ms/step - loss: 0.6580 - accuracy: 0.6304\n",
            "Epoch 6/150\n",
            "276/276 [==============================] - 0s 1ms/step - loss: 0.6582 - accuracy: 0.6304\n",
            "Epoch 7/150\n",
            "276/276 [==============================] - 0s 1ms/step - loss: 0.6534 - accuracy: 0.6304\n",
            "Epoch 8/150\n",
            "276/276 [==============================] - 0s 1ms/step - loss: 0.6412 - accuracy: 0.6449\n",
            "Epoch 9/150\n",
            "276/276 [==============================] - 0s 1ms/step - loss: 0.6512 - accuracy: 0.6304\n",
            "Epoch 10/150\n",
            "276/276 [==============================] - 0s 1ms/step - loss: 0.6449 - accuracy: 0.6341\n",
            "Epoch 11/150\n",
            "276/276 [==============================] - 0s 1ms/step - loss: 0.6450 - accuracy: 0.6377\n",
            "Epoch 12/150\n",
            "276/276 [==============================] - 0s 1ms/step - loss: 0.6432 - accuracy: 0.6413\n",
            "Epoch 13/150\n",
            "276/276 [==============================] - 0s 1ms/step - loss: 0.6505 - accuracy: 0.6413\n",
            "Epoch 1/150\n",
            "276/276 [==============================] - 1s 1ms/step - loss: 0.6550 - accuracy: 0.6558\n",
            "Epoch 2/150\n",
            "276/276 [==============================] - 0s 1ms/step - loss: 0.6448 - accuracy: 0.6558\n",
            "Epoch 3/150\n",
            "276/276 [==============================] - 0s 1ms/step - loss: 0.6299 - accuracy: 0.6703\n",
            "Epoch 4/150\n",
            "276/276 [==============================] - 0s 1ms/step - loss: 0.6144 - accuracy: 0.6993\n",
            "Epoch 5/150\n",
            "276/276 [==============================] - 0s 1ms/step - loss: 0.6130 - accuracy: 0.6703\n",
            "Epoch 6/150\n",
            "276/276 [==============================] - 0s 1ms/step - loss: 0.6100 - accuracy: 0.6884\n",
            "Epoch 7/150\n",
            "276/276 [==============================] - 0s 1ms/step - loss: 0.5991 - accuracy: 0.6957\n",
            "Epoch 8/150\n",
            "276/276 [==============================] - 0s 1ms/step - loss: 0.6050 - accuracy: 0.6884\n",
            "Epoch 9/150\n",
            "276/276 [==============================] - 0s 1ms/step - loss: 0.5994 - accuracy: 0.6775\n",
            "Epoch 10/150\n",
            "276/276 [==============================] - 0s 1ms/step - loss: 0.5886 - accuracy: 0.6920\n",
            "Epoch 11/150\n",
            "276/276 [==============================] - 0s 1ms/step - loss: 0.5805 - accuracy: 0.7210\n",
            "Epoch 12/150\n",
            "276/276 [==============================] - 0s 1ms/step - loss: 0.5903 - accuracy: 0.7174\n",
            "Epoch 13/150\n",
            "276/276 [==============================] - 0s 1ms/step - loss: 0.5722 - accuracy: 0.6993\n",
            "Epoch 14/150\n",
            "276/276 [==============================] - 0s 1ms/step - loss: 0.5695 - accuracy: 0.7065\n",
            "Epoch 15/150\n",
            "276/276 [==============================] - 0s 2ms/step - loss: 0.5630 - accuracy: 0.7029\n",
            "Epoch 16/150\n",
            "276/276 [==============================] - 0s 1ms/step - loss: 0.5662 - accuracy: 0.7174\n",
            "Epoch 17/150\n",
            "276/276 [==============================] - 0s 1ms/step - loss: 0.5581 - accuracy: 0.6920\n",
            "Epoch 18/150\n",
            "276/276 [==============================] - 0s 1ms/step - loss: 0.5601 - accuracy: 0.7246\n",
            "Epoch 19/150\n",
            "276/276 [==============================] - 0s 1ms/step - loss: 0.5473 - accuracy: 0.7500\n",
            "Epoch 20/150\n",
            "276/276 [==============================] - 0s 1ms/step - loss: 0.5539 - accuracy: 0.7283\n",
            "Epoch 21/150\n",
            "276/276 [==============================] - 0s 1ms/step - loss: 0.5620 - accuracy: 0.7174\n",
            "Epoch 22/150\n",
            "276/276 [==============================] - 0s 1ms/step - loss: 0.5512 - accuracy: 0.7391\n",
            "Epoch 23/150\n",
            "276/276 [==============================] - 0s 1ms/step - loss: 0.5270 - accuracy: 0.7355\n",
            "Epoch 24/150\n",
            "276/276 [==============================] - 0s 1ms/step - loss: 0.5525 - accuracy: 0.7246\n",
            "Epoch 25/150\n",
            "276/276 [==============================] - 0s 1ms/step - loss: 0.5459 - accuracy: 0.7355\n",
            "Epoch 26/150\n",
            "276/276 [==============================] - 0s 1ms/step - loss: 0.5243 - accuracy: 0.7572\n",
            "Epoch 27/150\n",
            "276/276 [==============================] - 0s 1ms/step - loss: 0.5154 - accuracy: 0.7645\n",
            "Epoch 28/150\n",
            "276/276 [==============================] - 0s 1ms/step - loss: 0.5357 - accuracy: 0.7355\n",
            "Epoch 29/150\n",
            "276/276 [==============================] - 0s 1ms/step - loss: 0.5249 - accuracy: 0.7391\n",
            "Epoch 30/150\n",
            "276/276 [==============================] - 0s 1ms/step - loss: 0.5114 - accuracy: 0.7572\n",
            "Epoch 31/150\n",
            "276/276 [==============================] - 0s 2ms/step - loss: 0.5303 - accuracy: 0.7681\n",
            "Epoch 32/150\n",
            "276/276 [==============================] - 0s 1ms/step - loss: 0.5098 - accuracy: 0.7681\n",
            "Epoch 33/150\n",
            "276/276 [==============================] - 0s 1ms/step - loss: 0.4919 - accuracy: 0.7464\n",
            "Epoch 34/150\n",
            "276/276 [==============================] - 0s 1ms/step - loss: 0.5242 - accuracy: 0.7609\n",
            "Epoch 35/150\n",
            "276/276 [==============================] - 0s 2ms/step - loss: 0.5038 - accuracy: 0.7609\n",
            "Epoch 36/150\n",
            "276/276 [==============================] - 0s 1ms/step - loss: 0.5214 - accuracy: 0.7464\n",
            "Epoch 37/150\n",
            "276/276 [==============================] - 0s 1ms/step - loss: 0.5102 - accuracy: 0.7609\n",
            "Epoch 38/150\n",
            "276/276 [==============================] - 0s 1ms/step - loss: 0.5129 - accuracy: 0.7536\n"
          ]
        }
      ]
    },
    {
      "cell_type": "markdown",
      "source": [
        "# Portugese Accuracy"
      ],
      "metadata": {
        "id": "pZp1YJdHGSju"
      }
    },
    {
      "cell_type": "code",
      "source": [
        "print(f\"G1: {por_g1_acc}%\")\n",
        "plot_confusion_matrix(por_g1_cmat)\n",
        "print(f\"G2: {por_g2_acc}%\")\n",
        "plot_confusion_matrix(por_g2_cmat)\n",
        "print(f\"G3: {por_g3_acc}%\")\n",
        "plot_confusion_matrix(por_g3_cmat)"
      ],
      "metadata": {
        "colab": {
          "base_uri": "https://localhost:8080/",
          "height": 1000
        },
        "id": "iv8KeFsQGVHH",
        "outputId": "305247b9-15d4-4f17-fbd6-d737f1bf8c38"
      },
      "execution_count": 77,
      "outputs": [
        {
          "output_type": "stream",
          "name": "stdout",
          "text": [
            "G1: 0.8358974456787109%\n"
          ]
        },
        {
          "output_type": "display_data",
          "data": {
            "text/plain": [
              "<Figure size 432x288 with 2 Axes>"
            ],
            "image/png": "[encoded data removed]"
          },
          "metadata": {
            "needs_background": "light"
          }
        },
        {
          "output_type": "stream",
          "name": "stdout",
          "text": [
            "G2: 0.800000011920929%\n"
          ]
        },
        {
          "output_type": "display_data",
          "data": {
            "text/plain": [
              "<Figure size 432x288 with 2 Axes>"
            ],
            "image/png": "[encoded data removed]"
          },
          "metadata": {
            "needs_background": "light"
          }
        },
        {
          "output_type": "stream",
          "name": "stdout",
          "text": [
            "G3: 0.8666666746139526%\n"
          ]
        },
        {
          "output_type": "display_data",
          "data": {
            "text/plain": [
              "<Figure size 432x288 with 2 Axes>"
            ],
            "image/png": "[encoded data removed]"
          },
          "metadata": {
            "needs_background": "light"
          }
        }
      ]
    },
    {
      "cell_type": "markdown",
      "source": [
        "# Mathematics Accuracy"
      ],
      "metadata": {
        "id": "D4Z0LBiaGbZG"
      }
    },
    {
      "cell_type": "code",
      "source": [
        "print(f\"G1: {mat_g1_acc}%\")\n",
        "plot_confusion_matrix(mat_g1_cmat)\n",
        "print(f\"G2: {mat_g2_acc}%\")\n",
        "plot_confusion_matrix(mat_g2_cmat)\n",
        "print(f\"G3: {mat_g3_acc}%\")\n",
        "plot_confusion_matrix(mat_g3_cmat)"
      ],
      "metadata": {
        "colab": {
          "base_uri": "https://localhost:8080/",
          "height": 1000
        },
        "id": "RQhFP9EqGCDu",
        "outputId": "7a1925fe-e71b-49a2-a8a4-07c48fba8553"
      },
      "execution_count": 78,
      "outputs": [
        {
          "output_type": "stream",
          "name": "stdout",
          "text": [
            "G1: 0.605042040348053%\n"
          ]
        },
        {
          "output_type": "display_data",
          "data": {
            "text/plain": [
              "<Figure size 432x288 with 2 Axes>"
            ],
            "image/png": "[encoded data removed]"
          },
          "metadata": {
            "needs_background": "light"
          }
        },
        {
          "output_type": "stream",
          "name": "stdout",
          "text": [
            "G2: 0.6386554837226868%\n"
          ]
        },
        {
          "output_type": "display_data",
          "data": {
            "text/plain": [
              "<Figure size 432x288 with 2 Axes>"
            ],
            "image/png": "[encoded data removed]"
          },
          "metadata": {
            "needs_background": "light"
          }
        },
        {
          "output_type": "stream",
          "name": "stdout",
          "text": [
            "G3: 0.680672287940979%\n"
          ]
        },
        {
          "output_type": "display_data",
          "data": {
            "text/plain": [
              "<Figure size 432x288 with 2 Axes>"
            ],
            "image/png": "[encoded data removed]"
          },
          "metadata": {
            "needs_background": "light"
          }
        }
      ]
    }
  ]
}